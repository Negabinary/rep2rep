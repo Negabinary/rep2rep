{
 "cells": [
  {
   "cell_type": "raw",
   "metadata": {},
   "source": [
    "test"
   ]
  },
  {
   "cell_type": "code",
   "execution_count": 4,
   "metadata": {},
   "outputs": [
    {
     "name": "stdout",
     "output_type": "stream",
     "text": [
      "val x = 5;\r\n"
     ]
    }
   ],
   "source": [
    "val x = 5;"
   ]
  },
  {
   "cell_type": "code",
   "execution_count": 3,
   "metadata": {},
   "outputs": [
    {
     "name": "stdout",
     "output_type": "stream",
     "text": [
      "5\r\n"
     ]
    }
   ],
   "source": [
    "5"
   ]
  }
 ],
 "metadata": {
  "kernelspec": {
   "display_name": "Oruga",
   "language": "oruga",
   "name": "orugakernel"
  },
  "language_info": {
   "mimetype": "text/plain"
  }
 },
 "nbformat": 4,
 "nbformat_minor": 2
}
